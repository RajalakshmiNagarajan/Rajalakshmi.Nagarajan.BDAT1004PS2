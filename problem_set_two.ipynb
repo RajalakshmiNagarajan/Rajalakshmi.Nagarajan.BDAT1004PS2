{
 "cells": [
  {
   "cell_type": "markdown",
   "id": "d0330aeb",
   "metadata": {},
   "source": [
    "Question 1 Explanation: When a variable is declared as global variable, it will have its scope throughout the program. So here variable a is defined as global and having its scope throughout the code, on the first execution a is assigned to be 2 and in the third execution it will be 6."
   ]
  },
  {
   "cell_type": "code",
   "execution_count": 2,
   "id": "e6f44580",
   "metadata": {},
   "outputs": [],
   "source": [
    "a = 0\n",
    "def b():\n",
    "    global a\n",
    "    a = c(a)\n",
    "def c(a):\n",
    "    return a + 2"
   ]
  },
  {
   "cell_type": "code",
   "execution_count": 3,
   "id": "c53fe16e",
   "metadata": {},
   "outputs": [],
   "source": [
    "b()"
   ]
  },
  {
   "cell_type": "code",
   "execution_count": 4,
   "id": "9ecb3611",
   "metadata": {},
   "outputs": [],
   "source": [
    "b()"
   ]
  },
  {
   "cell_type": "code",
   "execution_count": 5,
   "id": "3ef52ad5",
   "metadata": {},
   "outputs": [],
   "source": [
    "b()"
   ]
  },
  {
   "cell_type": "code",
   "execution_count": 6,
   "id": "de3c4721",
   "metadata": {},
   "outputs": [
    {
     "data": {
      "text/plain": [
       "6"
      ]
     },
     "execution_count": 6,
     "metadata": {},
     "output_type": "execute_result"
    }
   ],
   "source": [
    "a"
   ]
  },
  {
   "cell_type": "markdown",
   "id": "de4a1919",
   "metadata": {},
   "source": [
    "Question 2:"
   ]
  },
  {
   "cell_type": "code",
   "execution_count": 1,
   "id": "5e7f61a5",
   "metadata": {},
   "outputs": [
    {
     "name": "stdout",
     "output_type": "stream",
     "text": [
      "88\n",
      "File\tidterm.py\tnot found!\n"
     ]
    }
   ],
   "source": [
    "def file_length(file_name):\n",
    "    try:\n",
    "        file = open(file_name)\n",
    "        contents = file.read()\n",
    "        file.close()\n",
    "        print(len(contents))\n",
    "    except FileNotFoundError:\n",
    "        print(\"File\\t\"+file_name+\"\\tnot found!\")\n",
    "file_length(\"C:\\\\Users\\\\rajal\\\\PycharmProjects\\\\pythonProject\\\\hello.txt\")\n",
    "file_length(\"idterm.py\")\n"
   ]
  },
  {
   "cell_type": "markdown",
   "id": "0dd547e6",
   "metadata": {},
   "source": [
    "Question 3:"
   ]
  },
  {
   "cell_type": "code",
   "execution_count": 7,
   "id": "a2a360f9",
   "metadata": {},
   "outputs": [
    {
     "name": "stdout",
     "output_type": "stream",
     "text": [
      "I am a Kangaroo located at coordinates (0,0)\n",
      "['doll', 'firetruck', 'kitten']\n",
      "I am a Kangaroo located at coordinates (6,3)\n"
     ]
    }
   ],
   "source": [
    "class Marsupial:  # parent class - Marsupial\n",
    "\n",
    "    def __init__(self, x, y):  # defining constructor that takes input x and y variables of parent class\n",
    "        self.pouch = []\n",
    "\n",
    "    def put_in_pouch(self, items):  # appending items to empty self.pouch() list\n",
    "        self.pouch.append(items)\n",
    "\n",
    "    def pouch_contents(self):\n",
    "        return self.pouch\n",
    "\n",
    "\n",
    "class Kangaroo(Marsupial):  # child class - Kangaroo\n",
    "    def __init__(self, x, y):\n",
    "        super().__init__(x, y)  # extending Marsupial constructor to take inputs of the Kangaroo object \n",
    "        self.dx = 0\n",
    "        self.dy = 0\n",
    "\n",
    "    def jump(self, x, y):\n",
    "        self.dx = self.dx + x  # defining jump function to jump the coordinates of Kangaroo as per user input\n",
    "        self.dy = self.dy + y\n",
    "\n",
    "    def __str__(self):  # overload the _str_ operator\n",
    "        return 'I am a Kangaroo located at coordinates ({},{})'.format(self.dx, self.dy)\n",
    "\n",
    "\n",
    "k = Kangaroo(0, 0)\n",
    "print(k)\n",
    "k.put_in_pouch('doll')\n",
    "k.put_in_pouch('firetruck')\n",
    "k.put_in_pouch('kitten')\n",
    "k.pouch_contents()\n",
    "print(k.pouch)\n",
    "k.jump(2, 1)\n",
    "k.jump(2, 1)\n",
    "k.jump(2, 1)\n",
    "print(k)"
   ]
  },
  {
   "cell_type": "markdown",
   "id": "d49a01e6",
   "metadata": {},
   "source": [
    "Question 4:"
   ]
  },
  {
   "cell_type": "code",
   "execution_count": 8,
   "id": "8d33ba32",
   "metadata": {},
   "outputs": [
    {
     "name": "stdout",
     "output_type": "stream",
     "text": [
      "1\n",
      "10\n",
      "5\n",
      "16\n",
      "8\n",
      "4\n",
      "2\n",
      "1\n"
     ]
    }
   ],
   "source": [
    "def collatz(x):\n",
    "    if x != 1:\n",
    "        print(x, end='\\n')\n",
    "    if x == 1:\n",
    "        print(x, end='\\n')\n",
    "        return x\n",
    "    if x % 2 == 0:\n",
    "        x = x // 2\n",
    "        collatz(x)\n",
    "    else:\n",
    "        x = 3 * x + 1\n",
    "        collatz(x)\n",
    "\n",
    "\n",
    "collatz(1)\n",
    "collatz(10)"
   ]
  },
  {
   "cell_type": "markdown",
   "id": "7b84a789",
   "metadata": {},
   "source": [
    "Question 5:"
   ]
  },
  {
   "cell_type": "code",
   "execution_count": 9,
   "id": "54d4686d",
   "metadata": {},
   "outputs": [
    {
     "name": "stdout",
     "output_type": "stream",
     "text": [
      "0\n",
      "1\n",
      "11\n",
      "1001\n"
     ]
    }
   ],
   "source": [
    "# Decimal to binary conversion\n",
    "# using recursion\n",
    "def binary(number):\n",
    "    # default\n",
    "    if number == 0:\n",
    "        return 0\n",
    "\n",
    "    # Recursive call and storing result\n",
    "    binary_value = binary(number // 2)\n",
    "\n",
    "    return number % 2 + 10 * binary_value\n",
    "\n",
    "\n",
    "print(binary(0))\n",
    "print(binary(1))\n",
    "print(binary(3))\n",
    "print(binary(9))"
   ]
  },
  {
   "cell_type": "markdown",
   "id": "5773be0e",
   "metadata": {},
   "source": [
    "Question 6:"
   ]
  },
  {
   "cell_type": "code",
   "execution_count": 11,
   "id": "7b54392f",
   "metadata": {},
   "outputs": [
    {
     "name": "stdout",
     "output_type": "stream",
     "text": [
      "W3C Mission\n",
      "\tPrinciples\n"
     ]
    }
   ],
   "source": [
    "from html.parser import HTMLParser\n",
    "\n",
    "class HeadingParser(HTMLParser):\n",
    "    in_header_one = False\n",
    "    in_header_two = False\n",
    "\n",
    "    def handle_starttag(self, tag, attrs):\n",
    "        if tag == \"h1\":\n",
    "            self.in_header_one = True\n",
    "        if tag == \"h2\":\n",
    "            self.in_header_two = True\n",
    "\n",
    "    def handle_data(self, data):\n",
    "        if self.in_header_one:\n",
    "            print(data)\n",
    "        if self.in_header_two:\n",
    "            print(\"\\t\"+data)\n",
    "\n",
    "    def handle_endtag(self, tag):\n",
    "        if tag == \"h1\":\n",
    "            self.in_header_one = False\n",
    "        if tag == \"h2\":\n",
    "            self.in_header_two = False\n",
    "\n",
    "\n",
    "hParser = HeadingParser()\n",
    "file = open(\"C:\\\\Users\\\\rajal\\\\PycharmProjects\\\\pythonProject\\\\w3c.html\", \"r\")\n",
    "html_content = file.read()\n",
    "file.close()\n",
    "hParser.feed(html_content)"
   ]
  },
  {
   "cell_type": "markdown",
   "id": "deead630",
   "metadata": {},
   "source": [
    "Question 8:"
   ]
  },
  {
   "cell_type": "code",
   "execution_count": 15,
   "id": "b1060cf7",
   "metadata": {},
   "outputs": [
    {
     "name": "stdout",
     "output_type": "stream",
     "text": [
      "[('24.8',), ('28.4',), ('27.9',), ('27.6',), ('4.2',), ('8.3',), ('15.7',), ('10.4',), ('13.6',), ('20.7',), ('27.7',), ('22.2',)]\n",
      "[('Mumbai',), ('London',), ('Cairo',)]\n",
      "[('Mumbai', 'India', 'Winter', '24.8', '5.9'), ('Mumbai', 'India', 'Spring', '28.4', '16.2'), ('Mumbai', 'India', 'Summer', '27.9', '1549.4'), ('Mumbai', 'India', 'Fall', '27.6', '346.0')]\n",
      "[('Mumbai', 'India', 'Fall', '27.6', '346.0'), ('London', 'United Kingdom', 'Fall', '10.4', '218.5'), ('Cairo', 'Egypt', 'Fall', '22.2', '4.5')]\n",
      "[('Mumbai', 'India', 'Fall'), ('London', 'United Kingdom', 'Winter'), ('London', 'United Kingdom', 'Fall'), ('Cairo', 'Egypt', 'Fall')]\n",
      "[('Cairo', 'Egypt'), ('Mumbai', 'India')]\n",
      "[(27.6,)]\n",
      "[('Fall', 569.0), ('Spring', 192.29999999999998), ('Summer', 1706.5), ('Winter', 230.1)]\n"
     ]
    }
   ],
   "source": [
    "import sqlite3\n",
    "\n",
    "# connecting to the database\n",
    "connection = sqlite3.connect(\"season.db\")\n",
    "\n",
    "# cursor\n",
    "connection.commit()\n",
    "my_cursor = connection.cursor()\n",
    "\n",
    "# SQL command to create a table in the database\n",
    "sql_command = \"\"\"CREATE TABLE IF NOT EXISTS seasons (\n",
    "city CHAR(30),\n",
    "country CHAR(20),\n",
    "season CHAR(30),\n",
    "temperature VARCHAR(30),\n",
    "rainfall VARCHAR(30));\"\"\"\n",
    "\n",
    "# execute the statement\n",
    "my_cursor.execute(sql_command)\n",
    "connection.execute(\"INSERT INTO seasons VALUES('Mumbai', 'India', 'Winter', 24.8, '5.9');\")\n",
    "connection.execute(\"INSERT INTO seasons VALUES('Mumbai', 'India', 'Spring', 28.4, 16.2);\")\n",
    "connection.execute(\"INSERT INTO seasons VALUES('Mumbai', 'India', 'Summer', 27.9, 1549.4);\")\n",
    "connection.execute(\"INSERT INTO seasons VALUES('Mumbai', 'India', 'Fall', 27.6, 346.0);\")\n",
    "connection.execute(\"INSERT INTO seasons VALUES('London', 'United Kingdom', 'Winter', 4.2, 207.7);\")\n",
    "connection.execute(\"INSERT INTO seasons VALUES('London', 'United Kingdom', 'Spring', 8.3, 169.6 );\")\n",
    "connection.execute(\"INSERT INTO seasons VALUES('London', 'United Kingdom', 'Summer', 15.7, 157.0);\")\n",
    "connection.execute(\"INSERT INTO seasons VALUES('London', 'United Kingdom', 'Fall', 10.4, 218.5);\")\n",
    "connection.execute(\"INSERT INTO seasons VALUES('Cairo', 'Egypt', 'Winter', 13.6, 16.5);\")\n",
    "connection.execute(\"INSERT INTO seasons VALUES('Cairo', 'Egypt', 'Spring', 20.7, 6.5);\")\n",
    "connection.execute(\"INSERT INTO seasons VALUES('Cairo', 'Egypt', 'Summer', 27.7, 0.1);\")\n",
    "connection.execute(\"INSERT INTO seasons VALUES('Cairo', 'Egypt', 'Fall', 22.2, 4.5);\")\n",
    "\n",
    "# a) All the temperature data.\n",
    "my_cursor.execute(\"SELECT temperature from seasons\")\n",
    "result_set = my_cursor.fetchall()  # part a\n",
    "print(result_set)\n",
    "\n",
    "# b) All the cities, but without repetition.\n",
    "my_cursor.execute(\"SELECT DISTINCT(city) from seasons\")\n",
    "result_set = my_cursor.fetchall()\n",
    "print(result_set)\n",
    "\n",
    "# c) All the records for India.\n",
    "my_cursor.execute(\"SELECT * from seasons where country = 'India'\")\n",
    "result_set = my_cursor.fetchall()\n",
    "print(result_set)\n",
    "\n",
    "# d) All the Fall records.\n",
    "my_cursor.execute(\"SELECT * from seasons where season = 'Fall'\")\n",
    "result_set = my_cursor.fetchall()\n",
    "print(result_set)\n",
    "\n",
    "# e) The city, country, and season for which the average rainfall is between 200\n",
    "# and 400 millimeters.\n",
    "my_cursor.execute(\"SELECT city,country,season from seasons where rainfall BETWEEN 200 and 400\")\n",
    "result_set = my_cursor.fetchall()\n",
    "print(result_set)\n",
    "\n",
    "# f) The city and country for which the average Fall temperature is above 20\n",
    "# degrees, in increasing temperature order.\n",
    "my_cursor.execute(\"SELECT city,country from seasons where (season = 'Fall' and temperature > 20) \"\n",
    "                  \"ORDER BY temperature ASC\")\n",
    "result_set = my_cursor.fetchall()\n",
    "print(result_set)\n",
    "\n",
    "# g) The total annual rainfall for Cairo.\n",
    "my_cursor.execute(\"SELECT sum(rainfall) from seasons where city = 'Cairo'\")\n",
    "result_set = my_cursor.fetchall()\n",
    "print(result_set)\n",
    "\n",
    "# h) The total rainfall for each season.\n",
    "my_cursor.execute(\"SELECT season, sum(rainfall) from seasons group by season\")\n",
    "result_set = my_cursor.fetchall()\n",
    "print(result_set)\n",
    "\n",
    "connection.close()\n"
   ]
  },
  {
   "cell_type": "markdown",
   "id": "63b693aa",
   "metadata": {},
   "source": [
    "Question 9:"
   ]
  },
  {
   "cell_type": "code",
   "execution_count": 12,
   "id": "702ff09a",
   "metadata": {},
   "outputs": [
    {
     "name": "stdout",
     "output_type": "stream",
     "text": [
      "['THE', 'QUICK', 'BROWN', 'FOX', 'JUMPS', 'OVER', 'THE', 'LAZY', 'DOG']\n",
      "['the', 'quick', 'brown', 'fox', 'jumps', 'over', 'the', 'lazy', 'dog']\n",
      "[3, 5, 5, 3, 5, 4, 3, 4, 3]\n",
      "[['THE', 'the', 3], ['QUICK', 'quick', 5], ['BROWN', 'brown', 5], ['FOX', 'fox', 3], ['JUMPS', 'jumps', 5], ['OVER', 'over', 4], ['THE', 'the', 3], ['LAZY', 'lazy', 4], ['DOG', 'dog', 3]]\n",
      "['quick', 'brown', 'jumps', 'over', 'lazy']\n"
     ]
    }
   ],
   "source": [
    "words = ['The', 'quick', 'brown', 'fox', 'jumps', 'over', 'the', 'lazy', 'dog']\n",
    "print([element.upper() for element in words])\n",
    "print([element.lower() for element in words])\n",
    "print([len(element) for element in words])\n",
    "print([[element.upper(), element.lower(), len(element)]for element in words])\n",
    "print([element for element in words if len(element) >= 4])"
   ]
  },
  {
   "cell_type": "code",
   "execution_count": null,
   "id": "3fe3360a",
   "metadata": {},
   "outputs": [],
   "source": []
  }
 ],
 "metadata": {
  "kernelspec": {
   "display_name": "Python 3 (ipykernel)",
   "language": "python",
   "name": "python3"
  },
  "language_info": {
   "codemirror_mode": {
    "name": "ipython",
    "version": 3
   },
   "file_extension": ".py",
   "mimetype": "text/x-python",
   "name": "python",
   "nbconvert_exporter": "python",
   "pygments_lexer": "ipython3",
   "version": "3.9.13"
  }
 },
 "nbformat": 4,
 "nbformat_minor": 5
}
